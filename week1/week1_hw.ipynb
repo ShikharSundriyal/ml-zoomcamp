{
 "cells": [
  {
   "cell_type": "code",
   "execution_count": 2,
   "id": "b85bceb2-9c6f-4322-a11d-9e5f448c3395",
   "metadata": {},
   "outputs": [],
   "source": [
    "import pandas as pd"
   ]
  },
  {
   "cell_type": "code",
   "execution_count": 3,
   "id": "1eeacf15-c553-4ac2-bdcb-c55f63a6f11b",
   "metadata": {},
   "outputs": [],
   "source": [
    "import numpy as np"
   ]
  },
  {
   "cell_type": "code",
   "execution_count": 8,
   "id": "94b6386d",
   "metadata": {},
   "outputs": [
    {
     "data": {
      "text/plain": [
       "'2.3.1'"
      ]
     },
     "execution_count": 8,
     "metadata": {},
     "output_type": "execute_result"
    }
   ],
   "source": [
    "pd.__version__\n"
   ]
  },
  {
   "cell_type": "markdown",
   "id": "7b588707-28c1-4c40-8a75-e81b0811bd2e",
   "metadata": {},
   "source": [
    "pd.__version__\n"
   ]
  },
  {
   "cell_type": "code",
   "execution_count": 5,
   "id": "cb9750b3-8bfd-4df5-8d9c-aa05a488ff5b",
   "metadata": {},
   "outputs": [
    {
     "name": "stdout",
     "output_type": "stream",
     "text": [
      "--2025-09-25 09:41:40--  https://raw.githubusercontent.com/alexeygrigorev/datasets/master/car_fuel_efficiency.csv\n",
      "Resolving raw.githubusercontent.com (raw.githubusercontent.com)... 185.199.110.133, 185.199.111.133, 185.199.108.133, ...\n",
      "Connecting to raw.githubusercontent.com (raw.githubusercontent.com)|185.199.110.133|:443... connected.\n",
      "HTTP request sent, awaiting response... 200 OK\n",
      "Length: 874188 (854K) [text/plain]\n",
      "Saving to: ‘car_fuel_efficiency.csv’\n",
      "\n",
      "car_fuel_efficiency 100%[===================>] 853.70K  3.59MB/s    in 0.2s    \n",
      "\n",
      "2025-09-25 09:41:40 (3.59 MB/s) - ‘car_fuel_efficiency.csv’ saved [874188/874188]\n",
      "\n"
     ]
    }
   ],
   "source": [
    "!wget https://raw.githubusercontent.com/alexeygrigorev/datasets/master/car_fuel_efficiency.csv\n"
   ]
  },
  {
   "cell_type": "code",
   "execution_count": 4,
   "id": "e9a0c9fe-437c-4895-a8bf-4706cc3eec66",
   "metadata": {},
   "outputs": [],
   "source": [
    "df= pd.read_csv('car_fuel_efficiency.csv')"
   ]
  },
  {
   "cell_type": "markdown",
   "id": "91931e9d-0e3d-4485-a606-bc08df7fa5eb",
   "metadata": {},
   "source": [
    "# Q2. Records count\n"
   ]
  },
  {
   "cell_type": "code",
   "execution_count": 19,
   "id": "8ad60a3a-5620-4576-beae-a19adaf169f8",
   "metadata": {},
   "outputs": [
    {
     "data": {
      "text/plain": [
       "9704"
      ]
     },
     "execution_count": 19,
     "metadata": {},
     "output_type": "execute_result"
    }
   ],
   "source": [
    "len(df)"
   ]
  },
  {
   "cell_type": "code",
   "execution_count": 20,
   "id": "a673cae7-183f-4fa8-86ff-07aa9f13b6a3",
   "metadata": {},
   "outputs": [],
   "source": [
    "# Q3. Fuel types How many fuel types are presented in the dataset? --2"
   ]
  },
  {
   "cell_type": "code",
   "execution_count": 21,
   "id": "d115aee0-b40c-4d21-8e31-11e73bba0ffb",
   "metadata": {},
   "outputs": [
    {
     "data": {
      "text/plain": [
       "count         9704\n",
       "unique           2\n",
       "top       Gasoline\n",
       "freq          4898\n",
       "Name: fuel_type, dtype: object"
      ]
     },
     "execution_count": 21,
     "metadata": {},
     "output_type": "execute_result"
    }
   ],
   "source": [
    "df['fuel_type'].describe()"
   ]
  },
  {
   "cell_type": "code",
   "execution_count": 22,
   "id": "7164d766-c32e-4582-80db-28dac425b3e6",
   "metadata": {},
   "outputs": [],
   "source": [
    "# Q4. Missing values How many columns in the dataset have missing values? --4"
   ]
  },
  {
   "cell_type": "code",
   "execution_count": 9,
   "id": "ada9bc97-ff42-4b34-aa2b-c9eea163f050",
   "metadata": {},
   "outputs": [
    {
     "data": {
      "text/plain": [
       "engine_displacement      0\n",
       "num_cylinders          482\n",
       "horsepower             708\n",
       "vehicle_weight           0\n",
       "acceleration           930\n",
       "model_year               0\n",
       "origin                   0\n",
       "fuel_type                0\n",
       "drivetrain               0\n",
       "num_doors              502\n",
       "fuel_efficiency_mpg      0\n",
       "dtype: int64"
      ]
     },
     "execution_count": 9,
     "metadata": {},
     "output_type": "execute_result"
    }
   ],
   "source": [
    "df.isnull().sum()"
   ]
  },
  {
   "cell_type": "code",
   "execution_count": 24,
   "id": "eae388c0-e0f4-4d27-8e15-ee4cb8351f6f",
   "metadata": {},
   "outputs": [],
   "source": [
    "# What's the maximum fuel efficiency of cars from Asia? --23.759122836520497\n"
   ]
  },
  {
   "cell_type": "code",
   "execution_count": 25,
   "id": "94e1fc73-8515-4bcf-8d27-fa6edc297660",
   "metadata": {},
   "outputs": [
    {
     "data": {
      "text/plain": [
       "np.float64(23.759122836520497)"
      ]
     },
     "execution_count": 25,
     "metadata": {},
     "output_type": "execute_result"
    }
   ],
   "source": [
    "df[df.origin.str.lower() == 'asia'].fuel_efficiency_mpg.max()"
   ]
  },
  {
   "cell_type": "markdown",
   "id": "2bd5d605",
   "metadata": {},
   "source": [
    "Q6. Median value of horsepower\n",
    "Find the median value of horsepower column in the dataset.\n",
    "Next, calculate the most frequent value of the same horsepower column.\n",
    "Use fillna method to fill the missing values in horsepower column with the most frequent value from the previous step.\n",
    "Now, calculate the median value of horsepower once again.\n",
    "Has it changed?\n",
    "\n",
    "Yes, it increased\n",
    "Yes, it decreased\n",
    "No"
   ]
  },
  {
   "cell_type": "code",
   "execution_count": null,
   "id": "b62af20b-4353-4804-9271-4551f966e504",
   "metadata": {},
   "outputs": [
    {
     "data": {
      "text/plain": [
       "np.float64(152.0)"
      ]
     },
     "execution_count": 30,
     "metadata": {},
     "output_type": "execute_result"
    }
   ],
   "source": [
    "# Q6. Median value of horsepower --149.0)\n",
    "df['horsepower'].median() #149.0\n",
    "\n",
    "mfv = df['horsepower'].mode()[0] # 152.0\n",
    "#Use fillna method to fill the missing values in horsepower column with the most frequent value from the previous step.\n",
    "df['horsepower']=df['horsepower'].fillna(mfv)\n",
    "\n",
    "\n",
    "# Now, calculate the median value of horsepower once again.\n",
    "df['horsepower'].median() # np.float64(152.0)\n",
    "\n",
    "# It has increased\n"
   ]
  },
  {
   "cell_type": "markdown",
   "id": "50977389",
   "metadata": {},
   "source": [
    "7. Sum of weights\n",
    "Select all the cars from Asia\n",
    "Select only columns vehicle_weight and model_year\n",
    "Select the first 7 values\n",
    "Get the underlying NumPy array. Let's call it X.\n",
    "Compute matrix-matrix multiplication between the transpose of X and X. To get the transpose, use X.T. Let's call the result XTX.\n",
    "Invert XTX.\n",
    "Create an array y with values [1100, 1300, 800, 900, 1000, 1100, 1200].\n",
    "Multiply the inverse of XTX with the transpose of X, and then multiply the result by y. Call the result w.\n",
    "What's the sum of all the elements of the result?"
   ]
  },
  {
   "cell_type": "code",
   "execution_count": null,
   "id": "8e25f54d",
   "metadata": {},
   "outputs": [],
   "source": []
  },
  {
   "cell_type": "code",
   "execution_count": 5,
   "id": "2dd5655a",
   "metadata": {},
   "outputs": [],
   "source": [
    "#Select all the cars from Asia\n",
    "df_asia = df[df['origin'].str.lower()=='asia']\n",
    "\n",
    "\n",
    "#Select only columns vehicle_weight and model_year\n",
    "df_fil = df_asia[['vehicle_weight','model_year']]\n",
    "\n",
    "\n",
    "#Select the first 7 values\n",
    "df_fil[:7]\n",
    "\n",
    "#Get the underlying NumPy array. Let's call it X.\n",
    "X = df_fil[:7].values\n",
    "\n",
    "# Compute matrix-matrix multiplication between the transpose of X and X. To get the transpose, use X.T. Let's call the result XTX.\n",
    "xt = X.transpose()\n",
    "XTX = xt.dot(X)\n",
    "\n",
    "#Invert XTX.\n",
    "XTX_inv = np.linalg.inv(XTX)\n",
    "\n",
    "\n",
    "#Create an array y with values [1100, 1300, 800, 900, 1000, 1100, 1200].\n",
    "y = np.array( [1100, 1300, 800, 900, 1000, 1100, 1200])\n",
    "#Multiply the inverse of XTX with the transpose of X, and then multiply the result by y. Call the result w.\n",
    "res=XTX_inv.dot(xt)\n",
    "final = res.dot(y)\n",
    "#What's the sum of all the elements of the result?"
   ]
  },
  {
   "cell_type": "code",
   "execution_count": 7,
   "id": "c68b8538",
   "metadata": {},
   "outputs": [
    {
     "data": {
      "text/plain": [
       "np.float64(0.5187709081074016)"
      ]
     },
     "execution_count": 7,
     "metadata": {},
     "output_type": "execute_result"
    }
   ],
   "source": [
    "final.sum()"
   ]
  }
 ],
 "metadata": {
  "kernelspec": {
   "display_name": "Python 3",
   "language": "python",
   "name": "python3"
  },
  "language_info": {
   "codemirror_mode": {
    "name": "ipython",
    "version": 3
   },
   "file_extension": ".py",
   "mimetype": "text/x-python",
   "name": "python",
   "nbconvert_exporter": "python",
   "pygments_lexer": "ipython3",
   "version": "3.12.1"
  }
 },
 "nbformat": 4,
 "nbformat_minor": 5
}
