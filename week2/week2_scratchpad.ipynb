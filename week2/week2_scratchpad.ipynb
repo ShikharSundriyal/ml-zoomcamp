{
 "cells": [
  {
   "cell_type": "code",
   "execution_count": 41,
   "id": "9cce7169",
   "metadata": {},
   "outputs": [],
   "source": [
    "import pandas as pd\n",
    "import numpy as np \n",
    "df = pd.read_csv('data.csv')\n"
   ]
  },
  {
   "cell_type": "code",
   "execution_count": 50,
   "id": "75a6d97f",
   "metadata": {},
   "outputs": [
    {
     "name": "stderr",
     "output_type": "stream",
     "text": [
      "/tmp/ipykernel_12270/3753731734.py:3: SettingWithCopyWarning: \n",
      "A value is trying to be set on a copy of a slice from a DataFrame\n",
      "\n",
      "See the caveats in the documentation: https://pandas.pydata.org/pandas-docs/stable/user_guide/indexing.html#returning-a-view-versus-a-copy\n",
      "  df_train.fillna(0, inplace=True)\n"
     ]
    }
   ],
   "source": [
    "\n",
    "df.columns=df.columns.str.replace(' ', '_').str.lower()\n",
    "df_train=df[:10000]\n",
    "df_train.fillna(0, inplace=True)"
   ]
  },
  {
   "cell_type": "code",
   "execution_count": 51,
   "id": "c8b520d2",
   "metadata": {},
   "outputs": [
    {
     "data": {
      "text/plain": [
       "make                 0\n",
       "model                0\n",
       "year                 0\n",
       "engine_fuel_type     0\n",
       "engine_hp            0\n",
       "engine_cylinders     0\n",
       "transmission_type    0\n",
       "driven_wheels        0\n",
       "number_of_doors      0\n",
       "market_category      0\n",
       "vehicle_size         0\n",
       "vehicle_style        0\n",
       "highway_mpg          0\n",
       "city_mpg             0\n",
       "popularity           0\n",
       "msrp                 0\n",
       "dtype: int64"
      ]
     },
     "execution_count": 51,
     "metadata": {},
     "output_type": "execute_result"
    }
   ],
   "source": [
    "df_train.isnull().sum()"
   ]
  },
  {
   "cell_type": "code",
   "execution_count": 52,
   "id": "f9c81fb4",
   "metadata": {},
   "outputs": [],
   "source": [
    "base=['engine_hp','engine_cylinders','highway_mpg', 'city_mpg', 'popularity']\n",
    "X=df_train[base].values\n",
    "y_train=df_train['msrp'].values"
   ]
  },
  {
   "cell_type": "code",
   "execution_count": 82,
   "id": "d15635f5",
   "metadata": {},
   "outputs": [
    {
     "name": "stdout",
     "output_type": "stream",
     "text": [
      "[  335.87601089 -3250.97008534 -1346.30240955  1037.93267024\n",
      "    -4.19894855]\n"
     ]
    }
   ],
   "source": [
    "import numpy as np\n",
    "def linear_regression(X,Y):\n",
    "    w=np.linalg.inv(X.T.dot(X)).dot(X.T).dot(Y)\n",
    "    print(w)\n",
    "    return w\n",
    "w=linear_regression(X,y_train)\n"
   ]
  },
  {
   "cell_type": "code",
   "execution_count": null,
   "id": "90d0b9e2",
   "metadata": {},
   "outputs": [
    {
     "data": {
      "text/plain": [
       "array([-2915.09407444, -1010.42639866,  1373.80868113,   331.67706234])"
      ]
     },
     "execution_count": 80,
     "metadata": {},
     "output_type": "execute_result"
    }
   ],
   "source": []
  },
  {
   "cell_type": "code",
   "execution_count": 83,
   "id": "f9cf0af5",
   "metadata": {},
   "outputs": [],
   "source": [
    "y_pred=X.dot(w)"
   ]
  },
  {
   "cell_type": "code",
   "execution_count": 84,
   "metadata": {},
   "outputs": [
    {
     "data": {
      "text/plain": [
       "array([46135, 40650, 36350, ...,  2000,  2575,  3219], shape=(10000,))"
      ]
     },
     "execution_count": 84,
     "metadata": {},
     "output_type": "execute_result"
    }
   ],
   "source": [
    "y_train"
   ]
  },
  {
   "cell_type": "code",
   "execution_count": 85,
   "id": "6bd9eb4b",
   "metadata": {},
   "outputs": [
    {
     "data": {
      "text/plain": [
       "array([61286.41869907, 46838.15349871, 47876.08616895, ...,\n",
       "       15831.79389113, 33966.30011336, 67190.51892017], shape=(10000,))"
      ]
     },
     "execution_count": 85,
     "metadata": {},
     "output_type": "execute_result"
    }
   ],
   "source": [
    "y_pred"
   ]
  },
  {
   "cell_type": "code",
   "execution_count": 87,
   "id": "bf5258cd",
   "metadata": {},
   "outputs": [
    {
     "data": {
      "text/plain": [
       "<Axes: ylabel='Density'>"
      ]
     },
     "execution_count": 87,
     "metadata": {},
     "output_type": "execute_result"
    },
    {
     "data": {
      "image/png": "[encoded data removed]",
      "text/plain": [
       "<Figure size 640x480 with 1 Axes>"
      ]
     },
     "metadata": {},
     "output_type": "display_data"
    }
   ],
   "source": [
    "from seaborn import histplot\n",
    "histplot(y_train, color='blue', label='y_train', stat='density', bins=20)\n",
    "histplot(y_pred, color='red', label='y_pred', stat='density', bins=20)"
   ]
  },
  {
   "cell_type": "code",
   "execution_count": null,
   "metadata": {},
   "outputs": [],
   "source": []
  },
  {
   "cell_type": "code",
   "execution_count": 64,
   "id": "347f05d0",
   "metadata": {},
   "outputs": [
    {
     "data": {
      "text/plain": [
       "array([[7.36189919e+08, 1.53512270e+07, 6.26191980e+07, 4.51064660e+07,\n",
       "        3.85526347e+09],\n",
       "       [1.53512270e+07, 3.44472000e+05, 1.40484000e+06, 1.01644100e+06,\n",
       "        8.72520660e+07],\n",
       "       [6.26191980e+07, 1.40484000e+06, 8.17693800e+06, 6.20667100e+06,\n",
       "        4.14956705e+08],\n",
       "       [4.51064660e+07, 1.01644100e+06, 6.20667100e+06, 4.93265700e+06,\n",
       "        3.09593574e+08],\n",
       "       [3.85526347e+09, 8.72520660e+07, 4.14956705e+08, 3.09593574e+08,\n",
       "        4.41523999e+10]])"
      ]
     },
     "execution_count": 64,
     "metadata": {},
     "output_type": "execute_result"
    }
   ],
   "source": [
    "XTX"
   ]
  },
  {
   "cell_type": "code",
   "execution_count": null,
   "metadata": {},
   "outputs": [],
   "source": []
  },
  {
   "cell_type": "code",
   "execution_count": null,
   "id": "8313ff63",
   "metadata": {},
   "outputs": [
    {
     "name": "stdout",
     "output_type": "stream",
     "text": [
      "[nan nan nan nan nan]\n"
     ]
    },
    {
     "data": {
      "text/plain": [
       "(np.float64(nan), array([nan, nan, nan, nan]))"
      ]
     },
     "execution_count": 27,
     "metadata": {},
     "output_type": "execute_result"
    }
   ],
   "source": []
  },
  {
   "cell_type": "code",
   "execution_count": null,
   "id": "fc55c19c",
   "metadata": {},
   "outputs": [],
   "source": [
    "xi = [1,2,3] # features \n",
    "# model function,linear regressin\n",
    "def g(xi): \n",
    "    # w0+summation of wixi \n",
    "    val = w0 + sum(w*x for w,x in zip(xi,w))\n",
    "    return val;\n",
    "\n",
    "y=g(xi) # prediction\n"
   ]
  },
  {
   "cell_type": "code",
   "execution_count": 17,
   "id": "bce1d9a3",
   "metadata": {},
   "outputs": [
    {
     "data": {
      "text/plain": [
       "6"
      ]
     },
     "execution_count": 17,
     "metadata": {},
     "output_type": "execute_result"
    }
   ],
   "source": [
    "y"
   ]
  },
  {
   "cell_type": "code",
   "execution_count": 7,
   "id": "ae334e4a",
   "metadata": {},
   "outputs": [
    {
     "name": "stdout",
     "output_type": "stream",
     "text": [
      "1 1\n",
      "2 1\n",
      "3 1\n"
     ]
    }
   ],
   "source": [
    "for w,x in zip(xi,w):\n",
    "    print(w,x)"
   ]
  },
  {
   "cell_type": "code",
   "execution_count": null,
   "id": "2b6e8582",
   "metadata": {},
   "outputs": [
    {
     "data": {
      "text/plain": [
       "np.float64(162753.79141900392)"
      ]
     },
     "execution_count": 19,
     "metadata": {},
     "output_type": "execute_result"
    }
   ],
   "source": [
    "np.expm1(12) # the prediction tht we get is in log scale, so we need to convert it back to normal scale using expm1 as initlly we converted all feature vaules to log1p"
   ]
  },
  {
   "cell_type": "code",
   "execution_count": 7,
   "id": "182599ac",
   "metadata": {},
   "outputs": [],
   "source": [
    "import numpy as np\n",
    "x0=[1,2,3,4] # car1 feature\n",
    "x1=[2,3,45,5] # car1 feature\n",
    "x2=[98,10,98,9] # car1 feature\n",
    "X=np.array([x0,x1,x2]) # convertring to numpy array\n",
    "W=[1,2,3,4]\n",
    "y_pred=np.dot(X,W) #gives the predciction for each featrures of car"
   ]
  },
  {
   "cell_type": "code",
   "execution_count": null,
   "id": "dad39435",
   "metadata": {},
   "outputs": [],
   "source": [
    "X\n"
   ]
  },
  {
   "cell_type": "code",
   "execution_count": 24,
   "id": "5a18812c",
   "metadata": {},
   "outputs": [],
   "source": [
    "df['Model']=df['Model'].str.replace(' ','_').str.lower()"
   ]
  },
  {
   "cell_type": "code",
   "execution_count": 47,
   "id": "e798937c",
   "metadata": {},
   "outputs": [],
   "source": [
    "co=list(df.dtypes[df.dtypes == 'object'].index)\n",
    "for col in co:\n",
    "    df[col]=df[col].str.replace(' ','_').str.lower()"
   ]
  },
  {
   "cell_type": "code",
   "execution_count": 56,
   "id": "19bcf939",
   "metadata": {},
   "outputs": [],
   "source": [
    "type(df.columns)\n",
    "df.columns=df.columns.str.replace(' ','_').str.lower()"
   ]
  },
  {
   "cell_type": "code",
   "execution_count": 64,
   "id": "286c34ae",
   "metadata": {},
   "outputs": [
    {
     "data": {
      "text/plain": [
       "Index(['make', 'model', 'year', 'engine_fuel_type', 'engine_hp',\n",
       "       'engine_cylinders', 'transmission_type', 'driven_wheels',\n",
       "       'number_of_doors', 'market_category', 'vehicle_size', 'vehicle_style',\n",
       "       'highway_mpg', 'city_mpg', 'popularity', 'msrp'],\n",
       "      dtype='object')"
      ]
     },
     "execution_count": 64,
     "metadata": {},
     "output_type": "execute_result"
    }
   ],
   "source": [
    "df.columns"
   ]
  },
  {
   "cell_type": "code",
   "execution_count": 66,
   "id": "ea574cf2",
   "metadata": {},
   "outputs": [],
   "source": [
    "X=df[['year','highway_mpg']][:2]\n",
    "W=[1,2]"
   ]
  },
  {
   "cell_type": "code",
   "execution_count": 68,
   "id": "c8349627",
   "metadata": {},
   "outputs": [
    {
     "data": {
      "text/plain": [
       "array([2063, 2067])"
      ]
     },
     "execution_count": 68,
     "metadata": {},
     "output_type": "execute_result"
    }
   ],
   "source": [
    "np.dot(X,W)"
   ]
  },
  {
   "cell_type": "code",
   "execution_count": null,
   "id": "4c2266c9",
   "metadata": {},
   "outputs": [],
   "source": []
  }
 ],
 "metadata": {
  "kernelspec": {
   "display_name": "Python 3",
   "language": "python",
   "name": "python3"
  },
  "language_info": {
   "codemirror_mode": {
    "name": "ipython",
    "version": 3
   },
   "file_extension": ".py",
   "mimetype": "text/x-python",
   "name": "python",
   "nbconvert_exporter": "python",
   "pygments_lexer": "ipython3",
   "version": "3.12.1"
  }
 },
 "nbformat": 4,
 "nbformat_minor": 5
}
