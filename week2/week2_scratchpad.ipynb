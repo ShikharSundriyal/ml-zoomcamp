{
 "cells": [
  {
   "cell_type": "code",
   "execution_count": 1,
   "id": "9cce7169",
   "metadata": {},
   "outputs": [],
   "source": [
    "import pandas as pd\n",
    "import numpy as np \n",
    "df = pd.read_csv('data.csv')\n"
   ]
  },
  {
   "cell_type": "code",
   "execution_count": null,
   "id": "fc55c19c",
   "metadata": {},
   "outputs": [],
   "source": [
    "xi = [1,2,3] # features \n",
    "# model function,linear regressin\n",
    "def g(xi): \n",
    "    # w0+summation of wixi \n",
    "    val = w0 + sum(w*x for w,x in zip(xi,w))\n",
    "    return val;\n",
    "\n",
    "y=g(xi) # prediction\n"
   ]
  },
  {
   "cell_type": "code",
   "execution_count": 17,
   "id": "bce1d9a3",
   "metadata": {},
   "outputs": [
    {
     "data": {
      "text/plain": [
       "6"
      ]
     },
     "execution_count": 17,
     "metadata": {},
     "output_type": "execute_result"
    }
   ],
   "source": [
    "y"
   ]
  },
  {
   "cell_type": "code",
   "execution_count": 7,
   "id": "ae334e4a",
   "metadata": {},
   "outputs": [
    {
     "name": "stdout",
     "output_type": "stream",
     "text": [
      "1 1\n",
      "2 1\n",
      "3 1\n"
     ]
    }
   ],
   "source": [
    "for w,x in zip(xi,w):\n",
    "    print(w,x)"
   ]
  },
  {
   "cell_type": "code",
   "execution_count": null,
   "id": "2b6e8582",
   "metadata": {},
   "outputs": [
    {
     "data": {
      "text/plain": [
       "np.float64(162753.79141900392)"
      ]
     },
     "execution_count": 19,
     "metadata": {},
     "output_type": "execute_result"
    }
   ],
   "source": [
    "np.expm1(12) # the prediction tht we get is in log scale, so we need to convert it back to normal scale using expm1 as initlly we converted all feature vaules to log1p"
   ]
  },
  {
   "cell_type": "code",
   "execution_count": 7,
   "id": "182599ac",
   "metadata": {},
   "outputs": [],
   "source": [
    "import numpy as np\n",
    "x0=[1,2,3,4] # car1 feature\n",
    "x1=[2,3,45,5] # car1 feature\n",
    "x2=[98,10,98,9] # car1 feature\n",
    "X=np.array([x0,x1,x2]) # convertring to numpy array\n",
    "W=[1,2,3,4]\n",
    "y_pred=np.dot(X,W) #gives the predciction for each featrures of car"
   ]
  },
  {
   "cell_type": "code",
   "execution_count": null,
   "id": "dad39435",
   "metadata": {},
   "outputs": [],
   "source": [
    "X\n"
   ]
  },
  {
   "cell_type": "code",
   "execution_count": null,
   "id": "5a18812c",
   "metadata": {},
   "outputs": [],
   "source": []
  },
  {
   "cell_type": "code",
   "execution_count": null,
   "id": "e798937c",
   "metadata": {},
   "outputs": [],
   "source": []
  },
  {
   "cell_type": "code",
   "execution_count": null,
   "id": "19bcf939",
   "metadata": {},
   "outputs": [],
   "source": []
  }
 ],
 "metadata": {
  "kernelspec": {
   "display_name": "Python 3",
   "language": "python",
   "name": "python3"
  },
  "language_info": {
   "codemirror_mode": {
    "name": "ipython",
    "version": 3
   },
   "file_extension": ".py",
   "mimetype": "text/x-python",
   "name": "python",
   "nbconvert_exporter": "python",
   "pygments_lexer": "ipython3",
   "version": "3.12.1"
  }
 },
 "nbformat": 4,
 "nbformat_minor": 5
}
